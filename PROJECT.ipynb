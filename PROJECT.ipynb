{
  "nbformat": 4,
  "nbformat_minor": 0,
  "metadata": {
    "colab": {
      "provenance": [],
      "authorship_tag": "ABX9TyNkzYgowK9MamIhAuo75B7x",
      "include_colab_link": true
    },
    "kernelspec": {
      "name": "ir",
      "display_name": "R"
    },
    "language_info": {
      "name": "R"
    },
    "gpuClass": "standard"
  },
  "cells": [
    {
      "cell_type": "markdown",
      "metadata": {
        "id": "view-in-github",
        "colab_type": "text"
      },
      "source": [
        "<a href=\"https://colab.research.google.com/github/Karishmadeshmukh796/project_R_programming/blob/main/PROJECT.ipynb\" target=\"_parent\"><img src=\"https://colab.research.google.com/assets/colab-badge.svg\" alt=\"Open In Colab\"/></a>"
      ]
    },
    {
      "cell_type": "code",
      "execution_count": null,
      "metadata": {
        "colab": {
          "base_uri": "https://localhost:8080/"
        },
        "id": "gJ2uzNibvXBW",
        "outputId": "10b5d4eb-d2e8-4ab3-8402-03c5cb739672"
      },
      "outputs": [
        {
          "output_type": "stream",
          "name": "stderr",
          "text": [
            "Installing package into ‘/usr/local/lib/R/site-library’\n",
            "(as ‘lib’ is unspecified)\n",
            "\n",
            "Installing package into ‘/usr/local/lib/R/site-library’\n",
            "(as ‘lib’ is unspecified)\n",
            "\n"
          ]
        }
      ],
      "source": [
        "install.packages(\"ggplot2\")\n",
        "install.packages(\"ISLR\")"
      ]
    },
    {
      "cell_type": "code",
      "source": [
        "df=read.csv(\"Customers.csv\")"
      ],
      "metadata": {
        "id": "72Boo5tM0Rei"
      },
      "execution_count": null,
      "outputs": []
    },
    {
      "cell_type": "code",
      "source": [
        "head(df)"
      ],
      "metadata": {
        "colab": {
          "base_uri": "https://localhost:8080/",
          "height": 286
        },
        "id": "GyvPr1ov05PT",
        "outputId": "65b573cc-009c-4193-c7fd-e549ad2f75fb"
      },
      "execution_count": null,
      "outputs": [
        {
          "output_type": "display_data",
          "data": {
            "text/html": [
              "<table class=\"dataframe\">\n",
              "<caption>A data.frame: 6 × 8</caption>\n",
              "<thead>\n",
              "\t<tr><th></th><th scope=col>CustomerID</th><th scope=col>Gender</th><th scope=col>Age</th><th scope=col>Annual.Income....</th><th scope=col>Spending.Score..1.100.</th><th scope=col>Profession</th><th scope=col>Work.Experience</th><th scope=col>Family.Size</th></tr>\n",
              "\t<tr><th></th><th scope=col>&lt;int&gt;</th><th scope=col>&lt;chr&gt;</th><th scope=col>&lt;int&gt;</th><th scope=col>&lt;int&gt;</th><th scope=col>&lt;int&gt;</th><th scope=col>&lt;chr&gt;</th><th scope=col>&lt;int&gt;</th><th scope=col>&lt;int&gt;</th></tr>\n",
              "</thead>\n",
              "<tbody>\n",
              "\t<tr><th scope=row>1</th><td>1</td><td>Male  </td><td>19</td><td>15000</td><td>39</td><td>Healthcare   </td><td>1</td><td>4</td></tr>\n",
              "\t<tr><th scope=row>2</th><td>2</td><td>Male  </td><td>21</td><td>35000</td><td>81</td><td>Engineer     </td><td>3</td><td>3</td></tr>\n",
              "\t<tr><th scope=row>3</th><td>3</td><td>Female</td><td>20</td><td>86000</td><td> 6</td><td>Engineer     </td><td>1</td><td>1</td></tr>\n",
              "\t<tr><th scope=row>4</th><td>4</td><td>Female</td><td>23</td><td>59000</td><td>77</td><td>Lawyer       </td><td>0</td><td>2</td></tr>\n",
              "\t<tr><th scope=row>5</th><td>5</td><td>Female</td><td>31</td><td>38000</td><td>40</td><td>Entertainment</td><td>2</td><td>6</td></tr>\n",
              "\t<tr><th scope=row>6</th><td>6</td><td>Female</td><td>22</td><td>58000</td><td>76</td><td>Artist       </td><td>0</td><td>2</td></tr>\n",
              "</tbody>\n",
              "</table>\n"
            ],
            "text/markdown": "\nA data.frame: 6 × 8\n\n| <!--/--> | CustomerID &lt;int&gt; | Gender &lt;chr&gt; | Age &lt;int&gt; | Annual.Income.... &lt;int&gt; | Spending.Score..1.100. &lt;int&gt; | Profession &lt;chr&gt; | Work.Experience &lt;int&gt; | Family.Size &lt;int&gt; |\n|---|---|---|---|---|---|---|---|---|\n| 1 | 1 | Male   | 19 | 15000 | 39 | Healthcare    | 1 | 4 |\n| 2 | 2 | Male   | 21 | 35000 | 81 | Engineer      | 3 | 3 |\n| 3 | 3 | Female | 20 | 86000 |  6 | Engineer      | 1 | 1 |\n| 4 | 4 | Female | 23 | 59000 | 77 | Lawyer        | 0 | 2 |\n| 5 | 5 | Female | 31 | 38000 | 40 | Entertainment | 2 | 6 |\n| 6 | 6 | Female | 22 | 58000 | 76 | Artist        | 0 | 2 |\n\n",
            "text/latex": "A data.frame: 6 × 8\n\\begin{tabular}{r|llllllll}\n  & CustomerID & Gender & Age & Annual.Income.... & Spending.Score..1.100. & Profession & Work.Experience & Family.Size\\\\\n  & <int> & <chr> & <int> & <int> & <int> & <chr> & <int> & <int>\\\\\n\\hline\n\t1 & 1 & Male   & 19 & 15000 & 39 & Healthcare    & 1 & 4\\\\\n\t2 & 2 & Male   & 21 & 35000 & 81 & Engineer      & 3 & 3\\\\\n\t3 & 3 & Female & 20 & 86000 &  6 & Engineer      & 1 & 1\\\\\n\t4 & 4 & Female & 23 & 59000 & 77 & Lawyer        & 0 & 2\\\\\n\t5 & 5 & Female & 31 & 38000 & 40 & Entertainment & 2 & 6\\\\\n\t6 & 6 & Female & 22 & 58000 & 76 & Artist        & 0 & 2\\\\\n\\end{tabular}\n",
            "text/plain": [
              "  CustomerID Gender Age Annual.Income.... Spending.Score..1.100. Profession   \n",
              "1 1          Male   19  15000             39                     Healthcare   \n",
              "2 2          Male   21  35000             81                     Engineer     \n",
              "3 3          Female 20  86000              6                     Engineer     \n",
              "4 4          Female 23  59000             77                     Lawyer       \n",
              "5 5          Female 31  38000             40                     Entertainment\n",
              "6 6          Female 22  58000             76                     Artist       \n",
              "  Work.Experience Family.Size\n",
              "1 1               4          \n",
              "2 3               3          \n",
              "3 1               1          \n",
              "4 0               2          \n",
              "5 2               6          \n",
              "6 0               2          "
            ]
          },
          "metadata": {}
        }
      ]
    },
    {
      "cell_type": "code",
      "source": [
        "str(df)"
      ],
      "metadata": {
        "colab": {
          "base_uri": "https://localhost:8080/"
        },
        "id": "wyUguvzt06Ny",
        "outputId": "f93167f2-4e3c-49be-ef87-43976d09e0a1"
      },
      "execution_count": null,
      "outputs": [
        {
          "output_type": "stream",
          "name": "stdout",
          "text": [
            "'data.frame':\t2000 obs. of  8 variables:\n",
            " $ CustomerID            : int  1 2 3 4 5 6 7 8 9 10 ...\n",
            " $ Gender                : chr  \"Male\" \"Male\" \"Female\" \"Female\" ...\n",
            " $ Age                   : int  19 21 20 23 31 22 35 23 64 30 ...\n",
            " $ Annual.Income....     : int  15000 35000 86000 59000 38000 58000 31000 84000 97000 98000 ...\n",
            " $ Spending.Score..1.100.: int  39 81 6 77 40 76 6 94 3 72 ...\n",
            " $ Profession            : chr  \"Healthcare\" \"Engineer\" \"Engineer\" \"Lawyer\" ...\n",
            " $ Work.Experience       : int  1 3 1 0 2 0 1 1 0 1 ...\n",
            " $ Family.Size           : int  4 3 1 2 6 2 3 3 3 4 ...\n"
          ]
        }
      ]
    },
    {
      "cell_type": "code",
      "source": [
        "class(df)\n"
      ],
      "metadata": {
        "colab": {
          "base_uri": "https://localhost:8080/",
          "height": 34
        },
        "id": "fpeYmkjR1IfD",
        "outputId": "8d1154c9-52d3-43a2-cdb2-10facf6ea821"
      },
      "execution_count": null,
      "outputs": [
        {
          "output_type": "display_data",
          "data": {
            "text/html": [
              "'data.frame'"
            ],
            "text/markdown": "'data.frame'",
            "text/latex": "'data.frame'",
            "text/plain": [
              "[1] \"data.frame\""
            ]
          },
          "metadata": {}
        }
      ]
    },
    {
      "cell_type": "code",
      "source": [
        "length(df)"
      ],
      "metadata": {
        "colab": {
          "base_uri": "https://localhost:8080/",
          "height": 34
        },
        "id": "6EjV_ck23EvV",
        "outputId": "dec4b33f-0dd9-4be5-8afe-a453cc787ba0"
      },
      "execution_count": null,
      "outputs": [
        {
          "output_type": "display_data",
          "data": {
            "text/html": [
              "8"
            ],
            "text/markdown": "8",
            "text/latex": "8",
            "text/plain": [
              "[1] 8"
            ]
          },
          "metadata": {}
        }
      ]
    },
    {
      "cell_type": "code",
      "source": [
        "dim(df)"
      ],
      "metadata": {
        "colab": {
          "base_uri": "https://localhost:8080/",
          "height": 34
        },
        "id": "MWnH91S83Gtl",
        "outputId": "5d2811ce-465d-48c9-8f30-351032df3d51"
      },
      "execution_count": null,
      "outputs": [
        {
          "output_type": "display_data",
          "data": {
            "text/html": [
              "<style>\n",
              ".list-inline {list-style: none; margin:0; padding: 0}\n",
              ".list-inline>li {display: inline-block}\n",
              ".list-inline>li:not(:last-child)::after {content: \"\\00b7\"; padding: 0 .5ex}\n",
              "</style>\n",
              "<ol class=list-inline><li>2000</li><li>8</li></ol>\n"
            ],
            "text/markdown": "1. 2000\n2. 8\n\n\n",
            "text/latex": "\\begin{enumerate*}\n\\item 2000\n\\item 8\n\\end{enumerate*}\n",
            "text/plain": [
              "[1] 2000    8"
            ]
          },
          "metadata": {}
        }
      ]
    },
    {
      "cell_type": "code",
      "source": [],
      "metadata": {
        "id": "5MknrxwO3NbV"
      },
      "execution_count": null,
      "outputs": []
    }
  ]
}